{
 "cells": [
  {
   "cell_type": "code",
   "execution_count": 1,
   "id": "46343a17-9622-494e-95ac-5f22e7a53178",
   "metadata": {},
   "outputs": [
    {
     "name": "stderr",
     "output_type": "stream",
     "text": [
      "C:\\Users\\delem\\VNaR\\monenv\\Lib\\site-packages\\tqdm\\auto.py:21: TqdmWarning: IProgress not found. Please update jupyter and ipywidgets. See https://ipywidgets.readthedocs.io/en/stable/user_install.html\n",
      "  from .autonotebook import tqdm as notebook_tqdm\n"
     ]
    },
    {
     "name": "stdout",
     "output_type": "stream",
     "text": [
      "* Running on local URL:  http://127.0.0.1:7860\n",
      "* Running on public URL: https://60d3be768aa213e502.gradio.live\n",
      "\n",
      "This share link expires in 72 hours. For free permanent hosting and GPU upgrades, run `gradio deploy` from the terminal in the working directory to deploy to Hugging Face Spaces (https://huggingface.co/spaces)\n"
     ]
    },
    {
     "data": {
      "text/plain": []
     },
     "execution_count": 1,
     "metadata": {},
     "output_type": "execute_result"
    }
   ],
   "source": [
    "import gradio as gr\n",
    "import numpy as np\n",
    "import pandas as pd\n",
    "\n",
    "\n",
    "def calculate_var(risk_min, risk_max, gain_min, gain_max, cost_of_risk, confidence_level):\n",
    "    n_simulations = 5000\n",
    "    np.random.seed(42)  # pour la reproductibilité\n",
    "\n",
    "    # Calcul des paramètres pour la distribution des risques\n",
    "    risk_mean = (risk_min + risk_max) / 2 / 100\n",
    "    risk_stddev = (risk_max - risk_min) / 6 / 100\n",
    "\n",
    "    # Calcul des paramètres pour la distribution des gains\n",
    "    gain_mean = (gain_min + gain_max) / 2\n",
    "    gain_stddev = (gain_max - gain_min) / 6\n",
    "\n",
    "    # Simuler les pertes en millions de CAD\n",
    "    losses = cost_of_risk * np.random.normal(risk_mean, risk_stddev, n_simulations)\n",
    "    # Simuler les gains en millions de CAD\n",
    "    gains = np.random.normal(gain_mean, gain_stddev, n_simulations)\n",
    "\n",
    "    # Calcul de la valeur nette (gain - perte)\n",
    "    net_values = gains - losses\n",
    "\n",
    "    # Calculer la VaR de la valeur nette pour le quantile (1 - confidence level)\n",
    "    var_percentile = np.percentile(net_values, (1 - confidence_level) * 100)\n",
    "    mean_net_value = np.mean(net_values)\n",
    "    std_net_value = np.std(net_values)\n",
    "\n",
    "    # Calcul de l'histogramme en tant que DataFrame\n",
    "    counts, bins = np.histogram(net_values, bins=50, density=True)\n",
    "    bin_centers = (bins[:-1] + bins[1:]) / 2  # Centres des bins\n",
    "\n",
    "    # Conversion de la densité en pourcentage\n",
    "    counts_percentage = counts * 100\n",
    "\n",
    "    # Créer un DataFrame pour Gradio\n",
    "    df = pd.DataFrame({\"value\": bin_centers, \"probability\": counts_percentage})\n",
    "\n",
    "\n",
    "    # Rapport des résultats en millions de CAD\n",
    "    report = f\"\"\"\n",
    "    ===== Valeur nette du projet en millions de CAD =====\n",
    "    Coût du risque initial : {cost_of_risk} millions CAD\n",
    "    Niveau de confiance : {confidence_level * 100:.0f}%\n",
    "    VaR estimée de la valeur nette : {var_percentile:.2f} millions CAD\n",
    "    Valeur nette moyenne simulée : {mean_net_value:.2f} millions CAD\n",
    "    Écart-type des valeurs nettes simulées : {std_net_value:.2f} millions CAD\n",
    "    =====================================================\n",
    "    \"\"\"\n",
    "    return df, report\n",
    "\n",
    "# Interface Gradio\n",
    "iface = gr.Interface(\n",
    "    fn=calculate_var,\n",
    "    inputs=[\n",
    "        gr.Number(label=\"Risque minimum (%)\", value=5),\n",
    "        gr.Number(label=\"Risque maximum (%)\", value=20),\n",
    "        gr.Number(label=\"Gain minimum (millions CAD)\", value=10),\n",
    "        gr.Number(label=\"Gain maximum (millions CAD)\", value=20),\n",
    "        gr.Number(label=\"Coût du risque (millions CAD)\", value=70),\n",
    "        gr.Slider(0.80, 0.99, step=0.01, label=\"Niveau de confiance\", value=0.95),\n",
    "    ],\n",
    "    outputs=[\n",
    "        #gr.Image(type=\"filepath\", label=\"Distribution des valeurs nettes simulées\"),\n",
    "        gr.BarPlot(x=\"value\", y=\"probability\", x_bin=1, y_aggregate=\"mean\", title=\"Distribution des valeurs nettes simulées (en millions de CAD)\", x_label=\"Valeur nette (en millions de CAD)\", y_label=\"Densité de probabilité (%)\"),\n",
    "        gr.Textbox(label=\"Rapport de Valeur Nette à Risque (VNaR)\")\n",
    "    ],\n",
    "    title=\"Calcul de la Valeur Nette à Risque (VNaR) pour un projet\",\n",
    "    description=\"Entrez les paramètres pour estimer la Valeur Nette à Risque (VNaR) d'un projet.\"\n",
    ")\n",
    "\n",
    "iface.launch(inline=False, share=True)\n"
   ]
  },
  {
   "cell_type": "code",
   "execution_count": null,
   "id": "618d4cdf-8e96-4b84-b16a-52ca73a72dc0",
   "metadata": {},
   "outputs": [],
   "source": []
  }
 ],
 "metadata": {
  "kernelspec": {
   "display_name": "Python 3 (ipykernel)",
   "language": "python",
   "name": "python3"
  },
  "language_info": {
   "codemirror_mode": {
    "name": "ipython",
    "version": 3
   },
   "file_extension": ".py",
   "mimetype": "text/x-python",
   "name": "python",
   "nbconvert_exporter": "python",
   "pygments_lexer": "ipython3",
   "version": "3.12.0"
  }
 },
 "nbformat": 4,
 "nbformat_minor": 5
}
