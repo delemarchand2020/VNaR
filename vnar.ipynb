{
 "cells": [
  {
   "cell_type": "code",
   "execution_count": 1,
   "id": "46343a17-9622-494e-95ac-5f22e7a53178",
   "metadata": {},
   "outputs": [
    {
     "ename": "ModuleNotFoundError",
     "evalue": "No module named 'gradio'",
     "output_type": "error",
     "traceback": [
      "\u001b[31m---------------------------------------------------------------------------\u001b[39m",
      "\u001b[31mModuleNotFoundError\u001b[39m                       Traceback (most recent call last)",
      "\u001b[36mCell\u001b[39m\u001b[36m \u001b[39m\u001b[32mIn[1]\u001b[39m\u001b[32m, line 1\u001b[39m\n\u001b[32m----> \u001b[39m\u001b[32m1\u001b[39m \u001b[38;5;28;01mimport\u001b[39;00m\u001b[38;5;250m \u001b[39m\u001b[34;01mgradio\u001b[39;00m\u001b[38;5;250m \u001b[39m\u001b[38;5;28;01mas\u001b[39;00m\u001b[38;5;250m \u001b[39m\u001b[34;01mgr\u001b[39;00m\n\u001b[32m      2\u001b[39m \u001b[38;5;28;01mimport\u001b[39;00m\u001b[38;5;250m \u001b[39m\u001b[34;01mnumpy\u001b[39;00m\u001b[38;5;250m \u001b[39m\u001b[38;5;28;01mas\u001b[39;00m\u001b[38;5;250m \u001b[39m\u001b[34;01mnp\u001b[39;00m\n\u001b[32m      3\u001b[39m \u001b[38;5;28;01mimport\u001b[39;00m\u001b[38;5;250m \u001b[39m\u001b[34;01mpandas\u001b[39;00m\u001b[38;5;250m \u001b[39m\u001b[38;5;28;01mas\u001b[39;00m\u001b[38;5;250m \u001b[39m\u001b[34;01mpd\u001b[39;00m\n",
      "\u001b[31mModuleNotFoundError\u001b[39m: No module named 'gradio'"
     ]
    }
   ],
   "source": [
    "import gradio as gr\n",
    "import numpy as np\n",
    "import pandas as pd\n",
    "\n",
    "\n",
    "def calculate_var(risk_min, risk_max, gain_min, gain_max, cost_of_risk, confidence_level):\n",
    "    n_simulations = 5000\n",
    "    np.random.seed(42)  # pour la reproductibilité\n",
    "\n",
    "    # Calcul des paramètres pour la distribution des risques\n",
    "    risk_mean = (risk_min + risk_max) / 2 / 100\n",
    "    risk_stddev = (risk_max - risk_min) / 6 / 100\n",
    "\n",
    "    # Calcul des paramètres pour la distribution des gains\n",
    "    gain_mean = (gain_min + gain_max) / 2\n",
    "    gain_stddev = (gain_max - gain_min) / 6\n",
    "\n",
    "    # Simuler les pertes en millions de CAD\n",
    "    losses = cost_of_risk * np.random.normal(risk_mean, risk_stddev, n_simulations)\n",
    "    # Simuler les gains en millions de CAD\n",
    "    gains = np.random.normal(gain_mean, gain_stddev, n_simulations)\n",
    "\n",
    "    # Calcul de la valeur nette (gain - perte)\n",
    "    net_values = gains - losses\n",
    "\n",
    "    # Calculer la VaR de la valeur nette pour le quantile (1 - confidence level)\n",
    "    var_percentile = np.percentile(net_values, (1 - confidence_level) * 100)\n",
    "    mean_net_value = np.mean(net_values)\n",
    "    std_net_value = np.std(net_values)\n",
    "\n",
    "    # Calcul de l'histogramme en tant que DataFrame\n",
    "    counts, bins = np.histogram(net_values, bins=50, density=True)\n",
    "    bin_centers = (bins[:-1] + bins[1:]) / 2  # Centres des bins\n",
    "\n",
    "    # Conversion de la densité en pourcentage\n",
    "    counts_percentage = counts * 100\n",
    "\n",
    "    # Créer un DataFrame pour Gradio\n",
    "    df = pd.DataFrame({\"value\": bin_centers, \"probability\": counts_percentage})\n",
    "\n",
    "\n",
    "    # Rapport des résultats en millions de CAD\n",
    "    report = f\"\"\"\n",
    "    ===== Valeur nette du projet en millions de CAD =====\n",
    "    Coût du risque initial : {cost_of_risk} millions CAD\n",
    "    Niveau de confiance : {confidence_level * 100:.0f}%\n",
    "    VaR estimée de la valeur nette : {var_percentile:.2f} millions CAD\n",
    "    Valeur nette moyenne simulée : {mean_net_value:.2f} millions CAD\n",
    "    Écart-type des valeurs nettes simulées : {std_net_value:.2f} millions CAD\n",
    "    =====================================================\n",
    "    \"\"\"\n",
    "    return df, report\n",
    "\n",
    "# Interface Gradio\n",
    "iface = gr.Interface(\n",
    "    fn=calculate_var,\n",
    "    inputs=[\n",
    "        gr.Number(label=\"Risque minimum (%)\", value=5),\n",
    "        gr.Number(label=\"Risque maximum (%)\", value=20),\n",
    "        gr.Number(label=\"Gain minimum (millions CAD)\", value=10),\n",
    "        gr.Number(label=\"Gain maximum (millions CAD)\", value=20),\n",
    "        gr.Number(label=\"Coût du risque (millions CAD)\", value=70),\n",
    "        gr.Slider(0.80, 0.99, step=0.01, label=\"Niveau de confiance\", value=0.95),\n",
    "    ],\n",
    "    outputs=[\n",
    "        #gr.Image(type=\"filepath\", label=\"Distribution des valeurs nettes simulées\"),\n",
    "        gr.BarPlot(x=\"value\", y=\"probability\", x_bin=1, y_aggregate=\"mean\", title=\"Distribution des valeurs nettes simulées (en millions de CAD)\", x_label=\"Valeur nette (en millions de CAD)\", y_label=\"Densité de probabilité (%)\"),\n",
    "        gr.Textbox(label=\"Rapport de Valeur Nette à Risque (VNaR)\")\n",
    "    ],\n",
    "    title=\"Calcul de la Valeur Nette à Risque (VNaR) pour un projet\",\n",
    "    description=\"Entrez les paramètres pour estimer la Valeur Nette à Risque (VNaR) d'un projet.\"\n",
    ")\n",
    "\n",
    "iface.launch(share=True)\n"
   ]
  },
  {
   "cell_type": "code",
   "execution_count": null,
   "id": "618d4cdf-8e96-4b84-b16a-52ca73a72dc0",
   "metadata": {},
   "outputs": [],
   "source": []
  }
 ],
 "metadata": {
  "kernelspec": {
   "display_name": "Python 3 (ipykernel)",
   "language": "python",
   "name": "python3"
  },
  "language_info": {
   "codemirror_mode": {
    "name": "ipython",
    "version": 3
   },
   "file_extension": ".py",
   "mimetype": "text/x-python",
   "name": "python",
   "nbconvert_exporter": "python",
   "pygments_lexer": "ipython3",
   "version": "3.12.0"
  }
 },
 "nbformat": 4,
 "nbformat_minor": 5
}
